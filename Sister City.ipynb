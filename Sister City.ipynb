{
 "cells": [
  {
   "cell_type": "markdown",
   "metadata": {},
   "source": [
    "# Sister City\n",
    "\n",
    "Coursera course project to find sister/twin city for my home town using clustering.\n",
    "\n",
    "## Introduction/Business Problem\n",
    "\n",
    "With Britain living the EU, there is increased need for individuals in the EU to learn one of major European language author than English. In order to achieve this the plan is to move temporarily from my home City (Vilnius, Lithuania) to other EU and try to learn other language. \n",
    "\n",
    "I decided to use machine learning to find “sister” city to my home city.\n",
    "\n",
    "Criteria for “sister’ city:\n",
    "Countries to consider are Germany, France, Italy, Spain. The city of choice must be similar to my home city in Outdoors & Recreation facilities/landmarks offered. Also, the city has to be big enough (population over 400000). The plan is to live in central area of the city and only facilities/landmarks located near the city center need to be considered. \n",
    "\n",
    "## Data\n",
    "\n",
    "1. List of European cities with population statistics published on  http://worldpopulationreview.com/continents/cities-in-europe/ will be used to find prospect cities. \n",
    "\n",
    "2. Foursquare data based on every city location will be used to get all Outdoors & Recreation facilities/landmarks.\n",
    "\n",
    "\n",
    "\n"
   ]
  }
 ],
 "metadata": {
  "kernelspec": {
   "display_name": "Python 3",
   "language": "python",
   "name": "python3"
  },
  "language_info": {
   "codemirror_mode": {
    "name": "ipython",
    "version": 3
   },
   "file_extension": ".py",
   "mimetype": "text/x-python",
   "name": "python",
   "nbconvert_exporter": "python",
   "pygments_lexer": "ipython3",
   "version": "3.7.3"
  }
 },
 "nbformat": 4,
 "nbformat_minor": 2
}
